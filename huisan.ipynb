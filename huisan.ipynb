{
  "nbformat": 4,
  "nbformat_minor": 0,
  "metadata": {
    "colab": {
      "provenance": [],
      "name": "HUI3.ipynb",
      "include_colab_link": true
    },
    "kernelspec": {
      "name": "python3",
      "display_name": "Python 3"
    },
    "language_info": {
      "name": "python"
    }
  },
  "cells": [
    {
      "cell_type": "markdown",
      "metadata": {
        "id": "view-in-github",
        "colab_type": "text"
      },
      "source": [
        "<a href=\"https://colab.research.google.com/github/Xin-overclocked/pns/blob/main/huisan.ipynb\" target=\"_parent\"><img src=\"https://colab.research.google.com/assets/colab-badge.svg\" alt=\"Open In Colab\"/></a>"
      ]
    },
    {
      "cell_type": "code",
      "source": [
        "import pandas as pd"
      ],
      "metadata": {
        "id": "q-nbAVymNAJ8"
      },
      "execution_count": 4,
      "outputs": []
    },
    {
      "cell_type": "code",
      "source": [
        "from google.colab import drive\n",
        "drive.mount('/content/drive')"
      ],
      "metadata": {
        "colab": {
          "base_uri": "https://localhost:8080/"
        },
        "id": "i5r4HnYcOOxY",
        "outputId": "e9655e12-f61b-4a3b-badf-f1974e59988f"
      },
      "execution_count": 8,
      "outputs": [
        {
          "output_type": "stream",
          "name": "stdout",
          "text": [
            "Drive already mounted at /content/drive; to attempt to forcibly remount, call drive.mount(\"/content/drive\", force_remount=True).\n"
          ]
        }
      ]
    },
    {
      "cell_type": "markdown",
      "source": [
        "# **Section 1: Define Your Research Question and Dataset**\n"
      ],
      "metadata": {
        "id": "FFJZKmf7LtbC"
      }
    },
    {
      "cell_type": "markdown",
      "source": [
        "**Research Questions**\n",
        "\n",
        "\n",
        "1.   How does the age of athletes influence their likelihood of winning a medal in the Olympics across various sports?\n",
        "2.   To what extent does an athlete's weight impact their chances of securing a medal in the Olympics, considering different sports categories?"
      ],
      "metadata": {
        "id": "vbOhzKOOO1uy"
      }
    },
    {
      "cell_type": "code",
      "execution_count": 10,
      "metadata": {
        "id": "fZNMcvzHJviZ"
      },
      "outputs": [],
      "source": [
        "df = pd.read_csv('/content/drive/MyDrive/Colab Notebooks/athlete_events.csv')"
      ]
    },
    {
      "cell_type": "markdown",
      "source": [
        "Briefly describe your dataset, including its source, the main variables, sample size, and any limitations.\n"
      ],
      "metadata": {
        "id": "BBGNWSJXPGSx"
      }
    },
    {
      "cell_type": "markdown",
      "source": [
        "**Source:**\n",
        "\n",
        "The dataset is sourced from Kaggle and it contains information on Olympic athletes.  The specific file used is 'athlete_events.csv'.\n",
        "\n",
        "**Main Variables:**\n",
        "\n",
        "The dataset includes key variables such as athlete information (ID, name, sex, age, height, weight), game details (year, season, city), sport and event information, and medal outcomes (gold, silver, bronze).\n",
        "\n",
        "**Limitations:**\n",
        "\n",
        "* Missing Data:  The presence of missing values (NaNs) in columns like 'Age', 'Height', and 'Weight' may introduce bias or necessitate imputation.\n",
        "\n",
        "* Data Accuracy:  Data accuracy from historical sources may vary.\n",
        "\n",
        "* Representativeness: The dataset may not accurately represent all athletes who have ever participated in the Olympics throughout history.\n",
        "\n",
        "* Scope: Limited to recorded data points in the dataset and may not cover all aspects of an athlete's performance or contextual factors.\n"
      ],
      "metadata": {
        "id": "Izv6IqxiPeep"
      }
    },
    {
      "cell_type": "code",
      "source": [
        "print(f\"Sample Size: {df.shape[0]}\")"
      ],
      "metadata": {
        "colab": {
          "base_uri": "https://localhost:8080/"
        },
        "id": "L4h2a2VIPTlT",
        "outputId": "62d6c62b-4a0b-4e01-8355-8d14aa197b69"
      },
      "execution_count": 13,
      "outputs": [
        {
          "output_type": "stream",
          "name": "stdout",
          "text": [
            "Sample Size: 271116\n"
          ]
        }
      ]
    },
    {
      "cell_type": "markdown",
      "source": [
        "# **Section 2: Summarize Key Data with Descriptive Statistics**"
      ],
      "metadata": {
        "id": "AnqGHq3SL2Hv"
      }
    },
    {
      "cell_type": "markdown",
      "source": [
        "# New section"
      ],
      "metadata": {
        "id": "ua-QROGLMMO8"
      }
    }
  ]
}