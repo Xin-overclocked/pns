{
  "nbformat": 4,
  "nbformat_minor": 0,
  "metadata": {
    "colab": {
      "provenance": [],
      "name": "HUI3.ipynb",
      "include_colab_link": true
    },
    "kernelspec": {
      "name": "python3",
      "display_name": "Python 3"
    },
    "language_info": {
      "name": "python"
    }
  },
  "cells": [
    {
      "cell_type": "markdown",
      "metadata": {
        "id": "view-in-github",
        "colab_type": "text"
      },
      "source": [
        "<a href=\"https://colab.research.google.com/github/Xin-overclocked/pns/blob/main/huisan.ipynb\" target=\"_parent\"><img src=\"https://colab.research.google.com/assets/colab-badge.svg\" alt=\"Open In Colab\"/></a>"
      ]
    },
    {
      "cell_type": "code",
      "source": [
        "import pandas as pd"
      ],
      "metadata": {
        "id": "q-nbAVymNAJ8"
      },
      "execution_count": null,
      "outputs": []
    },
    {
      "cell_type": "markdown",
      "source": [
        "# **Section 1: Define Your Research Question and Dataset**\n"
      ],
      "metadata": {
        "id": "FFJZKmf7LtbC"
      }
    },
    {
      "cell_type": "code",
      "execution_count": null,
      "metadata": {
        "id": "fZNMcvzHJviZ"
      },
      "outputs": [],
      "source": [
        "df = pd.read_csv('/content/athlete_events.csv')"
      ]
    },
    {
      "cell_type": "markdown",
      "source": [
        "# **Section 2: Summarize Key Data with Descriptive Statistics**"
      ],
      "metadata": {
        "id": "AnqGHq3SL2Hv"
      }
    },
    {
      "cell_type": "markdown",
      "source": [
        "# New section"
      ],
      "metadata": {
        "id": "ua-QROGLMMO8"
      }
    }
  ]
}